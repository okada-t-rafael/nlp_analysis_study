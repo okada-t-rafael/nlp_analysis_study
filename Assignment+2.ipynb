{
  "nbformat": 4,
  "nbformat_minor": 0,
  "metadata": {
    "coursera": {
      "course_slug": "python-text-mining",
      "graded_item_id": "r35En",
      "launcher_item_id": "tCVfW",
      "part_id": "NTVgL"
    },
    "kernelspec": {
      "display_name": "Python 3",
      "language": "python",
      "name": "python3"
    },
    "language_info": {
      "codemirror_mode": {
        "name": "ipython",
        "version": 3
      },
      "file_extension": ".py",
      "mimetype": "text/x-python",
      "name": "python",
      "nbconvert_exporter": "python",
      "pygments_lexer": "ipython3",
      "version": "3.6.2"
    },
    "colab": {
      "name": "Assignment+2.ipynb",
      "provenance": [],
      "include_colab_link": true
    }
  },
  "cells": [
    {
      "cell_type": "markdown",
      "metadata": {
        "id": "view-in-github",
        "colab_type": "text"
      },
      "source": [
        "<a href=\"https://colab.research.google.com/github/okada-t-rafael/nlp_analysis_study/blob/master/Assignment%2B2.ipynb\" target=\"_parent\"><img src=\"https://colab.research.google.com/assets/colab-badge.svg\" alt=\"Open In Colab\"/></a>"
      ]
    },
    {
      "cell_type": "markdown",
      "metadata": {
        "id": "5WsSmXpm0Vb2"
      },
      "source": [
        "---\n",
        "\n",
        "_You are currently looking at **version 1.0** of this notebook. To download notebooks and datafiles, as well as get help on Jupyter notebooks in the Coursera platform, visit the [Jupyter Notebook FAQ](https://www.coursera.org/learn/python-text-mining/resources/d9pwm) course resource._\n",
        "\n",
        "---"
      ]
    },
    {
      "cell_type": "markdown",
      "metadata": {
        "id": "vK9U6wfs0Vb3"
      },
      "source": [
        "# Assignment 2 - Introduction to NLTK\n",
        "\n",
        "In part 1 of this assignment you will use nltk to explore the Herman Melville novel Moby Dick. Then in part 2 you will create a spelling recommender function that uses nltk to find words similar to the misspelling. "
      ]
    },
    {
      "cell_type": "markdown",
      "metadata": {
        "id": "f6upknIr0Vb4"
      },
      "source": [
        "## Part 1 - Analyzing Moby Dick"
      ]
    },
    {
      "cell_type": "code",
      "metadata": {
        "collapsed": true,
        "colab": {
          "base_uri": "https://localhost:8080/"
        },
        "id": "Hjnsj48O0Vb4",
        "outputId": "e3ae46cc-605f-4752-bfdb-4b2fea074d7d"
      },
      "source": [
        "import nltk\n",
        "nltk.download()\n",
        "\n",
        "import pandas as pd\n",
        "import numpy as np\n",
        "\n",
        "# If you would like to work with the raw text you can use 'moby_raw'\n",
        "with open('moby.txt', 'r') as f:\n",
        "    moby_raw = f.read()\n",
        "    \n",
        "# If you would like to work with the novel in nltk.Text format you can use 'text1'\n",
        "moby_tokens = nltk.word_tokenize(moby_raw)\n",
        "text1 = nltk.Text(moby_tokens)"
      ],
      "execution_count": 2,
      "outputs": [
        {
          "output_type": "stream",
          "text": [
            "NLTK Downloader\n",
            "---------------------------------------------------------------------------\n",
            "    d) Download   l) List    u) Update   c) Config   h) Help   q) Quit\n",
            "---------------------------------------------------------------------------\n",
            "Downloader> d\n",
            "\n",
            "Download which package (l=list; x=cancel)?\n",
            "  Identifier> all\n",
            "    Downloading collection 'all'\n",
            "       | \n",
            "       | Downloading package abc to /root/nltk_data...\n",
            "       |   Unzipping corpora/abc.zip.\n",
            "       | Downloading package alpino to /root/nltk_data...\n",
            "       |   Unzipping corpora/alpino.zip.\n",
            "       | Downloading package biocreative_ppi to /root/nltk_data...\n",
            "       |   Unzipping corpora/biocreative_ppi.zip.\n",
            "       | Downloading package brown to /root/nltk_data...\n",
            "       |   Unzipping corpora/brown.zip.\n",
            "       | Downloading package brown_tei to /root/nltk_data...\n",
            "       |   Unzipping corpora/brown_tei.zip.\n",
            "       | Downloading package cess_cat to /root/nltk_data...\n",
            "       |   Unzipping corpora/cess_cat.zip.\n",
            "       | Downloading package cess_esp to /root/nltk_data...\n",
            "       |   Unzipping corpora/cess_esp.zip.\n",
            "       | Downloading package chat80 to /root/nltk_data...\n",
            "       |   Unzipping corpora/chat80.zip.\n",
            "       | Downloading package city_database to /root/nltk_data...\n",
            "       |   Unzipping corpora/city_database.zip.\n",
            "       | Downloading package cmudict to /root/nltk_data...\n",
            "       |   Unzipping corpora/cmudict.zip.\n",
            "       | Downloading package comparative_sentences to\n",
            "       |     /root/nltk_data...\n",
            "       |   Unzipping corpora/comparative_sentences.zip.\n",
            "       | Downloading package comtrans to /root/nltk_data...\n",
            "       | Downloading package conll2000 to /root/nltk_data...\n",
            "       |   Unzipping corpora/conll2000.zip.\n",
            "       | Downloading package conll2002 to /root/nltk_data...\n",
            "       |   Unzipping corpora/conll2002.zip.\n",
            "       | Downloading package conll2007 to /root/nltk_data...\n",
            "       | Downloading package crubadan to /root/nltk_data...\n",
            "       |   Unzipping corpora/crubadan.zip.\n",
            "       | Downloading package dependency_treebank to /root/nltk_data...\n",
            "       |   Unzipping corpora/dependency_treebank.zip.\n",
            "       | Downloading package dolch to /root/nltk_data...\n",
            "       |   Unzipping corpora/dolch.zip.\n",
            "       | Downloading package europarl_raw to /root/nltk_data...\n",
            "       |   Unzipping corpora/europarl_raw.zip.\n",
            "       | Downloading package floresta to /root/nltk_data...\n",
            "       |   Unzipping corpora/floresta.zip.\n",
            "       | Downloading package framenet_v15 to /root/nltk_data...\n",
            "       |   Unzipping corpora/framenet_v15.zip.\n",
            "       | Downloading package framenet_v17 to /root/nltk_data...\n",
            "       |   Unzipping corpora/framenet_v17.zip.\n",
            "       | Downloading package gazetteers to /root/nltk_data...\n",
            "       |   Unzipping corpora/gazetteers.zip.\n",
            "       | Downloading package genesis to /root/nltk_data...\n",
            "       |   Unzipping corpora/genesis.zip.\n",
            "       | Downloading package gutenberg to /root/nltk_data...\n",
            "       |   Unzipping corpora/gutenberg.zip.\n",
            "       | Downloading package ieer to /root/nltk_data...\n",
            "       |   Unzipping corpora/ieer.zip.\n",
            "       | Downloading package inaugural to /root/nltk_data...\n",
            "       |   Unzipping corpora/inaugural.zip.\n",
            "       | Downloading package indian to /root/nltk_data...\n",
            "       |   Unzipping corpora/indian.zip.\n",
            "       | Downloading package jeita to /root/nltk_data...\n",
            "       | Downloading package kimmo to /root/nltk_data...\n",
            "       |   Unzipping corpora/kimmo.zip.\n",
            "       | Downloading package knbc to /root/nltk_data...\n",
            "       | Downloading package lin_thesaurus to /root/nltk_data...\n",
            "       |   Unzipping corpora/lin_thesaurus.zip.\n",
            "       | Downloading package mac_morpho to /root/nltk_data...\n",
            "       |   Unzipping corpora/mac_morpho.zip.\n",
            "       | Downloading package machado to /root/nltk_data...\n",
            "       | Downloading package masc_tagged to /root/nltk_data...\n",
            "       | Downloading package moses_sample to /root/nltk_data...\n",
            "       |   Unzipping models/moses_sample.zip.\n",
            "       | Downloading package movie_reviews to /root/nltk_data...\n",
            "       |   Unzipping corpora/movie_reviews.zip.\n",
            "       | Downloading package names to /root/nltk_data...\n",
            "       |   Unzipping corpora/names.zip.\n",
            "       | Downloading package nombank.1.0 to /root/nltk_data...\n",
            "       | Downloading package nps_chat to /root/nltk_data...\n",
            "       |   Unzipping corpora/nps_chat.zip.\n",
            "       | Downloading package omw to /root/nltk_data...\n",
            "       |   Unzipping corpora/omw.zip.\n",
            "       | Downloading package opinion_lexicon to /root/nltk_data...\n",
            "       |   Unzipping corpora/opinion_lexicon.zip.\n",
            "       | Downloading package paradigms to /root/nltk_data...\n",
            "       |   Unzipping corpora/paradigms.zip.\n",
            "       | Downloading package pil to /root/nltk_data...\n",
            "       |   Unzipping corpora/pil.zip.\n",
            "       | Downloading package pl196x to /root/nltk_data...\n",
            "       |   Unzipping corpora/pl196x.zip.\n",
            "       | Downloading package ppattach to /root/nltk_data...\n",
            "       |   Unzipping corpora/ppattach.zip.\n",
            "       | Downloading package problem_reports to /root/nltk_data...\n",
            "       |   Unzipping corpora/problem_reports.zip.\n",
            "       | Downloading package propbank to /root/nltk_data...\n",
            "       | Downloading package ptb to /root/nltk_data...\n",
            "       |   Unzipping corpora/ptb.zip.\n",
            "       | Downloading package product_reviews_1 to /root/nltk_data...\n",
            "       |   Unzipping corpora/product_reviews_1.zip.\n",
            "       | Downloading package product_reviews_2 to /root/nltk_data...\n",
            "       |   Unzipping corpora/product_reviews_2.zip.\n",
            "       | Downloading package pros_cons to /root/nltk_data...\n",
            "       |   Unzipping corpora/pros_cons.zip.\n",
            "       | Downloading package qc to /root/nltk_data...\n",
            "       |   Unzipping corpora/qc.zip.\n",
            "       | Downloading package reuters to /root/nltk_data...\n",
            "       | Downloading package rte to /root/nltk_data...\n",
            "       |   Unzipping corpora/rte.zip.\n",
            "       | Downloading package semcor to /root/nltk_data...\n",
            "       | Downloading package senseval to /root/nltk_data...\n",
            "       |   Unzipping corpora/senseval.zip.\n",
            "       | Downloading package sentiwordnet to /root/nltk_data...\n",
            "       |   Unzipping corpora/sentiwordnet.zip.\n",
            "       | Downloading package sentence_polarity to /root/nltk_data...\n",
            "       |   Unzipping corpora/sentence_polarity.zip.\n",
            "       | Downloading package shakespeare to /root/nltk_data...\n",
            "       |   Unzipping corpora/shakespeare.zip.\n",
            "       | Downloading package sinica_treebank to /root/nltk_data...\n",
            "       |   Unzipping corpora/sinica_treebank.zip.\n",
            "       | Downloading package smultron to /root/nltk_data...\n",
            "       |   Unzipping corpora/smultron.zip.\n",
            "       | Downloading package state_union to /root/nltk_data...\n",
            "       |   Unzipping corpora/state_union.zip.\n",
            "       | Downloading package stopwords to /root/nltk_data...\n",
            "       |   Unzipping corpora/stopwords.zip.\n",
            "       | Downloading package subjectivity to /root/nltk_data...\n",
            "       |   Unzipping corpora/subjectivity.zip.\n",
            "       | Downloading package swadesh to /root/nltk_data...\n",
            "       |   Unzipping corpora/swadesh.zip.\n",
            "       | Downloading package switchboard to /root/nltk_data...\n",
            "       |   Unzipping corpora/switchboard.zip.\n",
            "       | Downloading package timit to /root/nltk_data...\n",
            "       |   Unzipping corpora/timit.zip.\n",
            "       | Downloading package toolbox to /root/nltk_data...\n",
            "       |   Unzipping corpora/toolbox.zip.\n",
            "       | Downloading package treebank to /root/nltk_data...\n",
            "       |   Unzipping corpora/treebank.zip.\n",
            "       | Downloading package twitter_samples to /root/nltk_data...\n",
            "       |   Unzipping corpora/twitter_samples.zip.\n",
            "       | Downloading package udhr to /root/nltk_data...\n",
            "       |   Unzipping corpora/udhr.zip.\n",
            "       | Downloading package udhr2 to /root/nltk_data...\n",
            "       |   Unzipping corpora/udhr2.zip.\n",
            "       | Downloading package unicode_samples to /root/nltk_data...\n",
            "       |   Unzipping corpora/unicode_samples.zip.\n",
            "       | Downloading package universal_treebanks_v20 to\n",
            "       |     /root/nltk_data...\n",
            "       | Downloading package verbnet to /root/nltk_data...\n",
            "       |   Unzipping corpora/verbnet.zip.\n",
            "       | Downloading package verbnet3 to /root/nltk_data...\n",
            "       |   Unzipping corpora/verbnet3.zip.\n",
            "       | Downloading package webtext to /root/nltk_data...\n",
            "       |   Unzipping corpora/webtext.zip.\n",
            "       | Downloading package wordnet to /root/nltk_data...\n",
            "       |   Unzipping corpora/wordnet.zip.\n",
            "       | Downloading package wordnet_ic to /root/nltk_data...\n",
            "       |   Unzipping corpora/wordnet_ic.zip.\n",
            "       | Downloading package words to /root/nltk_data...\n",
            "       |   Unzipping corpora/words.zip.\n",
            "       | Downloading package ycoe to /root/nltk_data...\n",
            "       |   Unzipping corpora/ycoe.zip.\n",
            "       | Downloading package rslp to /root/nltk_data...\n",
            "       |   Unzipping stemmers/rslp.zip.\n",
            "       | Downloading package maxent_treebank_pos_tagger to\n",
            "       |     /root/nltk_data...\n",
            "       |   Unzipping taggers/maxent_treebank_pos_tagger.zip.\n",
            "       | Downloading package universal_tagset to /root/nltk_data...\n",
            "       |   Unzipping taggers/universal_tagset.zip.\n",
            "       | Downloading package maxent_ne_chunker to /root/nltk_data...\n",
            "       |   Unzipping chunkers/maxent_ne_chunker.zip.\n",
            "       | Downloading package punkt to /root/nltk_data...\n",
            "       |   Unzipping tokenizers/punkt.zip.\n",
            "       | Downloading package book_grammars to /root/nltk_data...\n",
            "       |   Unzipping grammars/book_grammars.zip.\n",
            "       | Downloading package sample_grammars to /root/nltk_data...\n",
            "       |   Unzipping grammars/sample_grammars.zip.\n",
            "       | Downloading package spanish_grammars to /root/nltk_data...\n",
            "       |   Unzipping grammars/spanish_grammars.zip.\n",
            "       | Downloading package basque_grammars to /root/nltk_data...\n",
            "       |   Unzipping grammars/basque_grammars.zip.\n",
            "       | Downloading package large_grammars to /root/nltk_data...\n",
            "       |   Unzipping grammars/large_grammars.zip.\n",
            "       | Downloading package tagsets to /root/nltk_data...\n",
            "       |   Unzipping help/tagsets.zip.\n",
            "       | Downloading package snowball_data to /root/nltk_data...\n",
            "       | Downloading package bllip_wsj_no_aux to /root/nltk_data...\n",
            "       |   Unzipping models/bllip_wsj_no_aux.zip.\n",
            "       | Downloading package word2vec_sample to /root/nltk_data...\n",
            "       |   Unzipping models/word2vec_sample.zip.\n",
            "       | Downloading package panlex_swadesh to /root/nltk_data...\n",
            "       | Downloading package mte_teip5 to /root/nltk_data...\n",
            "       |   Unzipping corpora/mte_teip5.zip.\n",
            "       | Downloading package averaged_perceptron_tagger to\n",
            "       |     /root/nltk_data...\n",
            "       |   Unzipping taggers/averaged_perceptron_tagger.zip.\n",
            "       | Downloading package averaged_perceptron_tagger_ru to\n",
            "       |     /root/nltk_data...\n",
            "       |   Unzipping taggers/averaged_perceptron_tagger_ru.zip.\n",
            "       | Downloading package perluniprops to /root/nltk_data...\n",
            "       |   Unzipping misc/perluniprops.zip.\n",
            "       | Downloading package nonbreaking_prefixes to\n",
            "       |     /root/nltk_data...\n",
            "       |   Unzipping corpora/nonbreaking_prefixes.zip.\n",
            "       | Downloading package vader_lexicon to /root/nltk_data...\n",
            "       | Downloading package porter_test to /root/nltk_data...\n",
            "       |   Unzipping stemmers/porter_test.zip.\n",
            "       | Downloading package wmt15_eval to /root/nltk_data...\n",
            "       |   Unzipping models/wmt15_eval.zip.\n",
            "       | Downloading package mwa_ppdb to /root/nltk_data...\n",
            "       |   Unzipping misc/mwa_ppdb.zip.\n",
            "       | \n",
            "     Done downloading collection all\n",
            "\n",
            "---------------------------------------------------------------------------\n",
            "    d) Download   l) List    u) Update   c) Config   h) Help   q) Quit\n",
            "---------------------------------------------------------------------------\n",
            "Downloader> q\n"
          ],
          "name": "stdout"
        }
      ]
    },
    {
      "cell_type": "markdown",
      "metadata": {
        "id": "0SZI6uA10Vb5"
      },
      "source": [
        "### Example 1\n",
        "\n",
        "How many tokens (words and punctuation symbols) are in text1?\n",
        "\n",
        "*This function should return an integer.*"
      ]
    },
    {
      "cell_type": "code",
      "metadata": {
        "collapsed": true,
        "colab": {
          "base_uri": "https://localhost:8080/"
        },
        "id": "RvHd170Q0Vb5",
        "outputId": "cdd61706-aa09-4260-c7ca-444d551b61d7"
      },
      "source": [
        "def example_one():\n",
        "    \n",
        "    return len(nltk.word_tokenize(moby_raw)) # or alternatively len(text1)\n",
        "\n",
        "example_one()"
      ],
      "execution_count": 3,
      "outputs": [
        {
          "output_type": "execute_result",
          "data": {
            "text/plain": [
              "254989"
            ]
          },
          "metadata": {
            "tags": []
          },
          "execution_count": 3
        }
      ]
    },
    {
      "cell_type": "markdown",
      "metadata": {
        "id": "8ivQ9H6e0Vb5"
      },
      "source": [
        "### Example 2\n",
        "\n",
        "How many unique tokens (unique words and punctuation) does text1 have?\n",
        "\n",
        "*This function should return an integer.*"
      ]
    },
    {
      "cell_type": "code",
      "metadata": {
        "collapsed": true,
        "colab": {
          "base_uri": "https://localhost:8080/"
        },
        "id": "IAftiY2N0Vb6",
        "outputId": "a369654b-0723-4947-9396-975ef2afaea4"
      },
      "source": [
        "def example_two():\n",
        "\n",
        "    return len(set(nltk.word_tokenize(moby_raw))) # or alternatively len(set(text1))\n",
        "\n",
        "example_two()"
      ],
      "execution_count": 4,
      "outputs": [
        {
          "output_type": "execute_result",
          "data": {
            "text/plain": [
              "20755"
            ]
          },
          "metadata": {
            "tags": []
          },
          "execution_count": 4
        }
      ]
    },
    {
      "cell_type": "markdown",
      "metadata": {
        "id": "hLqSUqTp0Vb6"
      },
      "source": [
        "### Example 3\n",
        "\n",
        "After lemmatizing the verbs, how many unique tokens does text1 have?\n",
        "\n",
        "*This function should return an integer.*"
      ]
    },
    {
      "cell_type": "code",
      "metadata": {
        "collapsed": true,
        "colab": {
          "base_uri": "https://localhost:8080/"
        },
        "id": "Q2SORGnd0Vb6",
        "outputId": "707cd430-d20c-426b-ca3b-108ee9c1df4a"
      },
      "source": [
        "from nltk.stem import WordNetLemmatizer\n",
        "\n",
        "def example_three():\n",
        "    lemmatizer = WordNetLemmatizer()\n",
        "    lemmatized = [lemmatizer.lemmatize(w,'v') for w in text1]\n",
        "\n",
        "    return len(set(lemmatized))\n",
        "\n",
        "example_three()"
      ],
      "execution_count": 5,
      "outputs": [
        {
          "output_type": "execute_result",
          "data": {
            "text/plain": [
              "16900"
            ]
          },
          "metadata": {
            "tags": []
          },
          "execution_count": 5
        }
      ]
    },
    {
      "cell_type": "markdown",
      "metadata": {
        "id": "-ZqJ1QZM0Vb7"
      },
      "source": [
        "### Question 1\n",
        "\n",
        "What is the lexical diversity of the given text input? (i.e. ratio of unique tokens to the total number of tokens)\n",
        "\n",
        "*This function should return a float.*"
      ]
    },
    {
      "cell_type": "code",
      "metadata": {
        "collapsed": true,
        "colab": {
          "base_uri": "https://localhost:8080/"
        },
        "id": "05hscsl20Vb7",
        "outputId": "14c8924c-9c78-4eff-c46d-c1eb21cbb4c6"
      },
      "source": [
        "def answer_one():\n",
        "    unique_tokens_size = len(set(nltk.word_tokenize(moby_raw)))\n",
        "    total_number_of_tokens = len(nltk.word_tokenize(moby_raw))\n",
        "    return unique_tokens_size / total_number_of_tokens\n",
        "\n",
        "answer_one()"
      ],
      "execution_count": 6,
      "outputs": [
        {
          "output_type": "execute_result",
          "data": {
            "text/plain": [
              "0.08139566804842562"
            ]
          },
          "metadata": {
            "tags": []
          },
          "execution_count": 6
        }
      ]
    },
    {
      "cell_type": "markdown",
      "metadata": {
        "id": "UZskfr9-0Vb7"
      },
      "source": [
        "### Question 2\n",
        "\n",
        "What percentage of tokens is 'whale'or 'Whale'?\n",
        "\n",
        "*This function should return a float.*"
      ]
    },
    {
      "cell_type": "code",
      "metadata": {
        "collapsed": true,
        "colab": {
          "base_uri": "https://localhost:8080/"
        },
        "id": "1dGP41sl0Vb7",
        "outputId": "e3a4aa49-3af9-416b-ebae-c4e17b7effb4"
      },
      "source": [
        "def answer_two():\n",
        "    text1 = nltk.word_tokenize(moby_raw)\n",
        "    fdist1 = nltk.FreqDist(text1)\n",
        "    whale_count = fdist1['whale'] + fdist1['Whale'] \n",
        "    return (whale_count / len(text1)) * 100\n",
        "\n",
        "answer_two()"
      ],
      "execution_count": 79,
      "outputs": [
        {
          "output_type": "execute_result",
          "data": {
            "text/plain": [
              "0.004125668166077752"
            ]
          },
          "metadata": {
            "tags": []
          },
          "execution_count": 79
        }
      ]
    },
    {
      "cell_type": "markdown",
      "metadata": {
        "id": "IQCFnZ9f0Vb7"
      },
      "source": [
        "### Question 3\n",
        "\n",
        "What are the 20 most frequently occurring (unique) tokens in the text? What is their frequency?\n",
        "\n",
        "*This function should return a list of 20 tuples where each tuple is of the form `(token, frequency)`. The list should be sorted in descending order of frequency.*"
      ]
    },
    {
      "cell_type": "code",
      "metadata": {
        "collapsed": true,
        "colab": {
          "base_uri": "https://localhost:8080/"
        },
        "id": "lMR1aP770Vb8",
        "outputId": "4f5cba88-97ef-4f73-b0e8-ce24352e22d7"
      },
      "source": [
        "def answer_three():\n",
        "    text1 = nltk.word_tokenize(moby_raw)\n",
        "    fdist1 = nltk.FreqDist(text1)\n",
        "    total_number_of_tokens = len(nltk.word_tokenize(moby_raw))    \n",
        "    return sorted(fdist1.most_common(20), key=lambda t: t[1], reverse=True)\n",
        "\n",
        "answer_three()"
      ],
      "execution_count": 76,
      "outputs": [
        {
          "output_type": "execute_result",
          "data": {
            "text/plain": [
              "[(',', 19204),\n",
              " ('the', 13715),\n",
              " ('.', 7308),\n",
              " ('of', 6513),\n",
              " ('and', 6010),\n",
              " ('a', 4545),\n",
              " ('to', 4515),\n",
              " (';', 4173),\n",
              " ('in', 3908),\n",
              " ('that', 2978),\n",
              " ('his', 2459),\n",
              " ('it', 2196),\n",
              " ('I', 2097),\n",
              " ('!', 1767),\n",
              " ('is', 1722),\n",
              " ('--', 1713),\n",
              " ('with', 1659),\n",
              " ('he', 1658),\n",
              " ('was', 1639),\n",
              " ('as', 1620)]"
            ]
          },
          "metadata": {
            "tags": []
          },
          "execution_count": 76
        }
      ]
    },
    {
      "cell_type": "markdown",
      "metadata": {
        "id": "DqsRTcqi0Vb8"
      },
      "source": [
        "### Question 4\n",
        "\n",
        "What tokens have a length of greater than 5 and frequency of more than 150?\n",
        "\n",
        "*This function should return an alphabetically sorted list of the tokens that match the above constraints. To sort your list, use `sorted()`*"
      ]
    },
    {
      "cell_type": "code",
      "metadata": {
        "collapsed": true,
        "colab": {
          "base_uri": "https://localhost:8080/"
        },
        "id": "sktUAq7z0Vb8",
        "outputId": "1a683213-fc08-4e9e-84ef-2e5ab0e1b241"
      },
      "source": [
        "def answer_four():\n",
        "    text1 = nltk.word_tokenize(moby_raw)\n",
        "    fdist1 = nltk.FreqDist(text1)\n",
        "    vocab1 = fdist1.keys()    \n",
        "    freqwords = [w for w in vocab1 if len(w) > 5 and fdist1[w] > 150]\n",
        "    \n",
        "    return sorted(freqwords)\n",
        "\n",
        "answer_four()"
      ],
      "execution_count": 49,
      "outputs": [
        {
          "output_type": "execute_result",
          "data": {
            "text/plain": [
              "['Captain',\n",
              " 'Pequod',\n",
              " 'Queequeg',\n",
              " 'Starbuck',\n",
              " 'almost',\n",
              " 'before',\n",
              " 'himself',\n",
              " 'little',\n",
              " 'seemed',\n",
              " 'should',\n",
              " 'though',\n",
              " 'through',\n",
              " 'whales',\n",
              " 'without']"
            ]
          },
          "metadata": {
            "tags": []
          },
          "execution_count": 49
        }
      ]
    },
    {
      "cell_type": "markdown",
      "metadata": {
        "id": "2UMQ4QlO0Vb8"
      },
      "source": [
        "### Question 5\n",
        "\n",
        "Find the longest word in text1 and that word's length.\n",
        "\n",
        "*This function should return a tuple `(longest_word, length)`.*"
      ]
    },
    {
      "cell_type": "code",
      "metadata": {
        "collapsed": true,
        "colab": {
          "base_uri": "https://localhost:8080/"
        },
        "id": "ScP1dZX20Vb8",
        "outputId": "23b7b781-c2c4-49e2-e2f0-7cdb36187146"
      },
      "source": [
        "def answer_five():\n",
        "    text1 = nltk.word_tokenize(moby_raw)\n",
        "    text2 = sorted(text1, key=lambda w: len(w), reverse=True)\n",
        "    return (text2[0], len(text2[0]))\n",
        "\n",
        "answer_five()"
      ],
      "execution_count": 48,
      "outputs": [
        {
          "output_type": "execute_result",
          "data": {
            "text/plain": [
              "(\"twelve-o'clock-at-night\", 23)"
            ]
          },
          "metadata": {
            "tags": []
          },
          "execution_count": 48
        }
      ]
    },
    {
      "cell_type": "markdown",
      "metadata": {
        "id": "JnsZmR5Y0Vb8"
      },
      "source": [
        "### Question 6\n",
        "\n",
        "What unique words have a frequency of more than 2000? What is their frequency?\n",
        "\n",
        "\"Hint:  you may want to use `isalpha()` to check if the token is a word and not punctuation.\"\n",
        "\n",
        "*This function should return a list of tuples of the form `(frequency, word)` sorted in descending order of frequency.*"
      ]
    },
    {
      "cell_type": "code",
      "metadata": {
        "collapsed": true,
        "colab": {
          "base_uri": "https://localhost:8080/"
        },
        "id": "KFUuhmLq0Vb9",
        "outputId": "d8f1a2a9-b5f9-4528-b42a-be47a26d3448"
      },
      "source": [
        "def answer_six():\n",
        "    text1 = nltk.word_tokenize(moby_raw)\n",
        "    fdist1 = nltk.FreqDist(text1)\n",
        "    vocab1 = fdist1.keys()    \n",
        "    freqwords = [(fdist1[w], w) for w in vocab1 if w.isalpha() and fdist1[w] > 2000]\n",
        "    return sorted(freqwords, key=lambda t: t[0], reverse=True)\n",
        "\n",
        "answer_six()"
      ],
      "execution_count": 53,
      "outputs": [
        {
          "output_type": "execute_result",
          "data": {
            "text/plain": [
              "[(13715, 'the'),\n",
              " (6513, 'of'),\n",
              " (6010, 'and'),\n",
              " (4545, 'a'),\n",
              " (4515, 'to'),\n",
              " (3908, 'in'),\n",
              " (2978, 'that'),\n",
              " (2459, 'his'),\n",
              " (2196, 'it'),\n",
              " (2097, 'I')]"
            ]
          },
          "metadata": {
            "tags": []
          },
          "execution_count": 53
        }
      ]
    },
    {
      "cell_type": "markdown",
      "metadata": {
        "id": "iN_kapzL0Vb9"
      },
      "source": [
        "### Question 7\n",
        "\n",
        "What is the average number of tokens per sentence?\n",
        "\n",
        "*This function should return a float.*"
      ]
    },
    {
      "cell_type": "code",
      "metadata": {
        "collapsed": true,
        "colab": {
          "base_uri": "https://localhost:8080/"
        },
        "id": "DCCRj-lj0Vb9",
        "outputId": "663312c7-1a23-402a-c519-dd2732b8e7c7"
      },
      "source": [
        "def answer_seven():\n",
        "    sent1 = nltk.sent_tokenize(moby_raw)\n",
        "    number_token_per_sent = [len(nltk.word_tokenize(s)) for s in sent1]\n",
        "    return sum(number_token_per_sent) / len(number_token_per_sent)\n",
        "\n",
        "answer_seven()"
      ],
      "execution_count": 58,
      "outputs": [
        {
          "output_type": "execute_result",
          "data": {
            "text/plain": [
              "25.881952902963864"
            ]
          },
          "metadata": {
            "tags": []
          },
          "execution_count": 58
        }
      ]
    },
    {
      "cell_type": "markdown",
      "metadata": {
        "id": "2_nC5-x90Vb9"
      },
      "source": [
        "### Question 8\n",
        "\n",
        "What are the 5 most frequent parts of speech in this text? What is their frequency?\n",
        "\n",
        "*This function should return a list of tuples of the form `(part_of_speech, frequency)` sorted in descending order of frequency.*"
      ]
    },
    {
      "cell_type": "code",
      "metadata": {
        "collapsed": true,
        "colab": {
          "base_uri": "https://localhost:8080/"
        },
        "id": "sYrJyIHA0Vb9",
        "outputId": "fd92db8e-265f-434e-e9b5-f2d06b9bdf64"
      },
      "source": [
        "def answer_eight():\n",
        "    from collections import Counter\n",
        "\n",
        "    text1 = nltk.word_tokenize(moby_raw)\n",
        "    pos_tag1 = nltk.pos_tag(text1)\n",
        "    res = Counter(t[1] for t in pos_tag1)\n",
        "    \n",
        "    return sorted(res.items(), key=lambda t: t[1], reverse=True)[:5]\n",
        "\n",
        "\n",
        "answer_eight()"
      ],
      "execution_count": 73,
      "outputs": [
        {
          "output_type": "execute_result",
          "data": {
            "text/plain": [
              "[('NN', 32730), ('IN', 28657), ('DT', 25867), (',', 19204), ('JJ', 17620)]"
            ]
          },
          "metadata": {
            "tags": []
          },
          "execution_count": 73
        }
      ]
    },
    {
      "cell_type": "markdown",
      "metadata": {
        "id": "UocwXpoM0Vb-"
      },
      "source": [
        "## Part 2 - Spelling Recommender\n",
        "\n",
        "For this part of the assignment you will create three different spelling recommenders, that each take a list of misspelled words and recommends a correctly spelled word for every word in the list.\n",
        "\n",
        "For every misspelled word, the recommender should find find the word in `correct_spellings` that has the shortest distance*, and starts with the same letter as the misspelled word, and return that word as a recommendation.\n",
        "\n",
        "*Each of the three different recommenders will use a different distance measure (outlined below).\n",
        "\n",
        "Each of the recommenders should provide recommendations for the three default words provided: `['cormulent', 'incendenece', 'validrate']`."
      ]
    },
    {
      "cell_type": "code",
      "metadata": {
        "collapsed": true,
        "id": "qLK9aiXD0Vb-"
      },
      "source": [
        "from nltk.corpus import words\n",
        "\n",
        "correct_spellings = words.words()"
      ],
      "execution_count": 80,
      "outputs": []
    },
    {
      "cell_type": "markdown",
      "metadata": {
        "id": "uJS0psEB0Vb-"
      },
      "source": [
        "### Question 9\n",
        "\n",
        "For this recommender, your function should provide recommendations for the three default words provided above using the following distance metric:\n",
        "\n",
        "**[Jaccard distance](https://en.wikipedia.org/wiki/Jaccard_index) on the trigrams of the two words.**\n",
        "\n",
        "*This function should return a list of length three:\n",
        "`['cormulent_reccomendation', 'incendenece_reccomendation', 'validrate_reccomendation']`.*"
      ]
    },
    {
      "cell_type": "code",
      "metadata": {
        "collapsed": true,
        "id": "EYjN3Erf0Vb_"
      },
      "source": [
        "def answer_nine(entries=['cormulent', 'incendenece', 'validrate']):\n",
        "    recomendations = []\n",
        "\n",
        "    for entry in entries:\n",
        "      temp = [(nltk.jaccard_distance(set(nltk.ngrams(entry, n=3)), set(nltk.ngrams(w, n=3))), w) for w in correct_spellings if w[0] == entry[0]]\n",
        "      recomendations.append(sorted(temp, key=lambda e: e[0], reverse=False)[0][1])    \n",
        "    \n",
        "    return recomendations\n",
        "    \n",
        "answer_nine()"
      ],
      "execution_count": null,
      "outputs": []
    },
    {
      "cell_type": "markdown",
      "metadata": {
        "id": "BH2cY-KB0Vb_"
      },
      "source": [
        "### Question 10\n",
        "\n",
        "For this recommender, your function should provide recommendations for the three default words provided above using the following distance metric:\n",
        "\n",
        "**[Jaccard distance](https://en.wikipedia.org/wiki/Jaccard_index) on the 4-grams of the two words.**\n",
        "\n",
        "*This function should return a list of length three:\n",
        "`['cormulent_reccomendation', 'incendenece_reccomendation', 'validrate_reccomendation']`.*"
      ]
    },
    {
      "cell_type": "code",
      "metadata": {
        "collapsed": true,
        "id": "UaqKd3PU0Vb_"
      },
      "source": [
        "def answer_ten(entries=['cormulent', 'incendenece', 'validrate']):\n",
        "    recomendations = []\n",
        "\n",
        "    for entry in entries:\n",
        "      temp = [(nltk.jaccard_distance(set(nltk.ngrams(entry, n=4)), set(nltk.ngrams(w, n=4))), w) for w in correct_spellings if w[0] == entry[0]]\n",
        "      recomendations.append(sorted(temp, key=lambda e: e[0], reverse=False)[0][1])    \n",
        "    \n",
        "    return recomendations\n",
        "    \n",
        "answer_ten()"
      ],
      "execution_count": null,
      "outputs": []
    },
    {
      "cell_type": "markdown",
      "metadata": {
        "id": "STabVVpt0Vb_"
      },
      "source": [
        "### Question 11\n",
        "\n",
        "For this recommender, your function should provide recommendations for the three default words provided above using the following distance metric:\n",
        "\n",
        "**[Edit distance on the two words with transpositions.](https://en.wikipedia.org/wiki/Damerau%E2%80%93Levenshtein_distance)**\n",
        "\n",
        "*This function should return a list of length three:\n",
        "`['cormulent_reccomendation', 'incendenece_reccomendation', 'validrate_reccomendation']`.*"
      ]
    },
    {
      "cell_type": "code",
      "metadata": {
        "collapsed": true,
        "colab": {
          "base_uri": "https://localhost:8080/"
        },
        "id": "QOG7X-9e0Vb_",
        "outputId": "5d0e195b-512a-4b99-9ed9-58932c626d4a"
      },
      "source": [
        "def answer_eleven(entries=['cormulent', 'incendenece', 'validrate']):  \n",
        "    recomendations = []\n",
        "\n",
        "    for entry in entries:\n",
        "      temp = [(nltk.edit_distance(entry, w), w) for w in correct_spellings if w[0] == entry[0]]\n",
        "      recomendations.append(sorted(temp, key=lambda e: e[0], reverse=False)[0][1])    \n",
        "    \n",
        "    return recomendations\n",
        "    \n",
        "answer_eleven()"
      ],
      "execution_count": 107,
      "outputs": [
        {
          "output_type": "execute_result",
          "data": {
            "text/plain": [
              "['corpulent', 'intendence', 'validate']"
            ]
          },
          "metadata": {
            "tags": []
          },
          "execution_count": 107
        }
      ]
    }
  ]
}