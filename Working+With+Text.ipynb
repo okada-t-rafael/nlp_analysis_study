{
  "nbformat": 4,
  "nbformat_minor": 0,
  "metadata": {
    "kernelspec": {
      "display_name": "Python 3",
      "language": "python",
      "name": "python3"
    },
    "language_info": {
      "codemirror_mode": {
        "name": "ipython",
        "version": 3
      },
      "file_extension": ".py",
      "mimetype": "text/x-python",
      "name": "python",
      "nbconvert_exporter": "python",
      "pygments_lexer": "ipython3",
      "version": "3.6.0"
    },
    "colab": {
      "name": "Working+With+Text.ipynb",
      "provenance": [],
      "include_colab_link": true
    }
  },
  "cells": [
    {
      "cell_type": "markdown",
      "metadata": {
        "id": "view-in-github",
        "colab_type": "text"
      },
      "source": [
        "<a href=\"https://colab.research.google.com/github/okada-t-rafael/nlp_analysis_study/blob/master/Working%2BWith%2BText.ipynb\" target=\"_parent\"><img src=\"https://colab.research.google.com/assets/colab-badge.svg\" alt=\"Open In Colab\"/></a>"
      ]
    },
    {
      "cell_type": "markdown",
      "metadata": {
        "id": "Xc8i_Rg3ehSL"
      },
      "source": [
        "---\n",
        "\n",
        "_You are currently looking at **version 1.0** of this notebook. To download notebooks and datafiles, as well as get help on Jupyter notebooks in the Coursera platform, visit the [Jupyter Notebook FAQ](https://www.coursera.org/learn/python-text-mining/resources/d9pwm) course resource._\n",
        "\n",
        "---"
      ]
    },
    {
      "cell_type": "markdown",
      "metadata": {
        "id": "fptEYbX6ehSO"
      },
      "source": [
        "# Working With Text"
      ]
    },
    {
      "cell_type": "code",
      "metadata": {
        "collapsed": true,
        "colab": {
          "base_uri": "https://localhost:8080/"
        },
        "id": "NqtQMLX4ehSO",
        "outputId": "fcb8cd04-bf92-4c36-a016-f55dff18ab40"
      },
      "source": [
        "text1 = \"Ethics are built right into the ideals and objectives of the United Nations \"\n",
        "\n",
        "len(text1) # The length of text1"
      ],
      "execution_count": 1,
      "outputs": [
        {
          "output_type": "execute_result",
          "data": {
            "text/plain": [
              "76"
            ]
          },
          "metadata": {
            "tags": []
          },
          "execution_count": 1
        }
      ]
    },
    {
      "cell_type": "code",
      "metadata": {
        "collapsed": true,
        "colab": {
          "base_uri": "https://localhost:8080/"
        },
        "id": "KOCybwX3ehSP",
        "outputId": "860ba231-019f-4b9a-ba9d-6eb02aeb9a49"
      },
      "source": [
        "text2 = text1.split(' ') # Return a list of the words in text2, separating by ' '.\n",
        "\n",
        "len(text2)"
      ],
      "execution_count": 2,
      "outputs": [
        {
          "output_type": "execute_result",
          "data": {
            "text/plain": [
              "14"
            ]
          },
          "metadata": {
            "tags": []
          },
          "execution_count": 2
        }
      ]
    },
    {
      "cell_type": "code",
      "metadata": {
        "collapsed": true,
        "colab": {
          "base_uri": "https://localhost:8080/"
        },
        "id": "G8cdnMVwehSP",
        "outputId": "1cef8f46-7e08-48f9-de57-e53ebd0fe012"
      },
      "source": [
        "text2"
      ],
      "execution_count": 3,
      "outputs": [
        {
          "output_type": "execute_result",
          "data": {
            "text/plain": [
              "['Ethics',\n",
              " 'are',\n",
              " 'built',\n",
              " 'right',\n",
              " 'into',\n",
              " 'the',\n",
              " 'ideals',\n",
              " 'and',\n",
              " 'objectives',\n",
              " 'of',\n",
              " 'the',\n",
              " 'United',\n",
              " 'Nations',\n",
              " '']"
            ]
          },
          "metadata": {
            "tags": []
          },
          "execution_count": 3
        }
      ]
    },
    {
      "cell_type": "markdown",
      "metadata": {
        "id": "cFvZ_Q8NehSP"
      },
      "source": [
        "<br>\n",
        "List comprehension allows us to find specific words:"
      ]
    },
    {
      "cell_type": "code",
      "metadata": {
        "collapsed": true,
        "colab": {
          "base_uri": "https://localhost:8080/"
        },
        "id": "74-d64TcehSP",
        "outputId": "c23032ab-ea3a-433a-c47b-fa1aca4c4167"
      },
      "source": [
        "[w for w in text2 if len(w) > 3] # Words that are greater than 3 letters long in text2"
      ],
      "execution_count": 4,
      "outputs": [
        {
          "output_type": "execute_result",
          "data": {
            "text/plain": [
              "['Ethics',\n",
              " 'built',\n",
              " 'right',\n",
              " 'into',\n",
              " 'ideals',\n",
              " 'objectives',\n",
              " 'United',\n",
              " 'Nations']"
            ]
          },
          "metadata": {
            "tags": []
          },
          "execution_count": 4
        }
      ]
    },
    {
      "cell_type": "code",
      "metadata": {
        "collapsed": true,
        "colab": {
          "base_uri": "https://localhost:8080/"
        },
        "id": "RIZxk6QmehSQ",
        "outputId": "0cf9719c-1f4a-4e71-f036-87e19c29a2e8"
      },
      "source": [
        "[w for w in text2 if w.istitle()] # Capitalized words in text2"
      ],
      "execution_count": 5,
      "outputs": [
        {
          "output_type": "execute_result",
          "data": {
            "text/plain": [
              "['Ethics', 'United', 'Nations']"
            ]
          },
          "metadata": {
            "tags": []
          },
          "execution_count": 5
        }
      ]
    },
    {
      "cell_type": "code",
      "metadata": {
        "collapsed": true,
        "colab": {
          "base_uri": "https://localhost:8080/"
        },
        "id": "wioPQg4jehSQ",
        "outputId": "eb1615f3-3ad6-483a-9483-375cdf9e3f50"
      },
      "source": [
        "[w for w in text2 if w.endswith('s')] # Words in text2 that end in 's'"
      ],
      "execution_count": 6,
      "outputs": [
        {
          "output_type": "execute_result",
          "data": {
            "text/plain": [
              "['Ethics', 'ideals', 'objectives', 'Nations']"
            ]
          },
          "metadata": {
            "tags": []
          },
          "execution_count": 6
        }
      ]
    },
    {
      "cell_type": "markdown",
      "metadata": {
        "id": "7AimZPB1ehSQ"
      },
      "source": [
        "<br>\n",
        "We can find unique words using `set()`."
      ]
    },
    {
      "cell_type": "code",
      "metadata": {
        "collapsed": true,
        "colab": {
          "base_uri": "https://localhost:8080/"
        },
        "id": "TXjV5ZvgehSR",
        "outputId": "3c567a53-aa06-45bb-867e-83dad11a7f61"
      },
      "source": [
        "text3 = 'To be or not to be'\n",
        "text4 = text3.split(' ')\n",
        "\n",
        "len(text4)"
      ],
      "execution_count": 7,
      "outputs": [
        {
          "output_type": "execute_result",
          "data": {
            "text/plain": [
              "6"
            ]
          },
          "metadata": {
            "tags": []
          },
          "execution_count": 7
        }
      ]
    },
    {
      "cell_type": "code",
      "metadata": {
        "collapsed": true,
        "colab": {
          "base_uri": "https://localhost:8080/"
        },
        "id": "ylZzlHuTehSR",
        "outputId": "27e9d4c5-7df1-49c6-e3f7-e8ff201b87a6"
      },
      "source": [
        "len(set(text4))"
      ],
      "execution_count": 8,
      "outputs": [
        {
          "output_type": "execute_result",
          "data": {
            "text/plain": [
              "5"
            ]
          },
          "metadata": {
            "tags": []
          },
          "execution_count": 8
        }
      ]
    },
    {
      "cell_type": "code",
      "metadata": {
        "collapsed": true,
        "colab": {
          "base_uri": "https://localhost:8080/"
        },
        "id": "8TaNHKFYehSR",
        "outputId": "9e492457-3616-42d4-eb1c-a8f28993fe3a"
      },
      "source": [
        "set(text4)"
      ],
      "execution_count": 9,
      "outputs": [
        {
          "output_type": "execute_result",
          "data": {
            "text/plain": [
              "{'To', 'be', 'not', 'or', 'to'}"
            ]
          },
          "metadata": {
            "tags": []
          },
          "execution_count": 9
        }
      ]
    },
    {
      "cell_type": "code",
      "metadata": {
        "collapsed": true,
        "colab": {
          "base_uri": "https://localhost:8080/"
        },
        "id": "AuuCxFSlehSR",
        "outputId": "d7c75866-b29a-4a15-f28f-73a03199ebb8"
      },
      "source": [
        "len(set([w.lower() for w in text4])) # .lower converts the string to lowercase."
      ],
      "execution_count": 10,
      "outputs": [
        {
          "output_type": "execute_result",
          "data": {
            "text/plain": [
              "4"
            ]
          },
          "metadata": {
            "tags": []
          },
          "execution_count": 10
        }
      ]
    },
    {
      "cell_type": "code",
      "metadata": {
        "collapsed": true,
        "colab": {
          "base_uri": "https://localhost:8080/"
        },
        "id": "ixFE0SgbehSR",
        "outputId": "58b6c089-e539-46cf-bdbb-dd7c84a847ef"
      },
      "source": [
        "set([w.lower() for w in text4])"
      ],
      "execution_count": 11,
      "outputs": [
        {
          "output_type": "execute_result",
          "data": {
            "text/plain": [
              "{'be', 'not', 'or', 'to'}"
            ]
          },
          "metadata": {
            "tags": []
          },
          "execution_count": 11
        }
      ]
    },
    {
      "cell_type": "markdown",
      "metadata": {
        "id": "sncmqgViehSS"
      },
      "source": [
        "### Processing free-text"
      ]
    },
    {
      "cell_type": "code",
      "metadata": {
        "collapsed": true,
        "colab": {
          "base_uri": "https://localhost:8080/"
        },
        "id": "afS4kh-lehSS",
        "outputId": "fe1f1816-2712-4ebf-8d1f-ae063fb3d1ed"
      },
      "source": [
        "text5 = '\"Ethics are built right into the ideals and objectives of the United Nations\" \\\n",
        "#UNSG @ NY Society for Ethical Culture bit.ly/2guVelr'\n",
        "text6 = text5.split(' ')\n",
        "\n",
        "text6"
      ],
      "execution_count": 12,
      "outputs": [
        {
          "output_type": "execute_result",
          "data": {
            "text/plain": [
              "['\"Ethics',\n",
              " 'are',\n",
              " 'built',\n",
              " 'right',\n",
              " 'into',\n",
              " 'the',\n",
              " 'ideals',\n",
              " 'and',\n",
              " 'objectives',\n",
              " 'of',\n",
              " 'the',\n",
              " 'United',\n",
              " 'Nations\"',\n",
              " '#UNSG',\n",
              " '@',\n",
              " 'NY',\n",
              " 'Society',\n",
              " 'for',\n",
              " 'Ethical',\n",
              " 'Culture',\n",
              " 'bit.ly/2guVelr']"
            ]
          },
          "metadata": {
            "tags": []
          },
          "execution_count": 12
        }
      ]
    },
    {
      "cell_type": "markdown",
      "metadata": {
        "id": "BZjR20yXehSS"
      },
      "source": [
        "<br>\n",
        "Finding hastags:"
      ]
    },
    {
      "cell_type": "code",
      "metadata": {
        "collapsed": true,
        "colab": {
          "base_uri": "https://localhost:8080/"
        },
        "id": "ReB1UDsEehSS",
        "outputId": "13a807a6-37b3-49de-fe21-2f811efd3eba"
      },
      "source": [
        "[w for w in text6 if w.startswith('#')]"
      ],
      "execution_count": 13,
      "outputs": [
        {
          "output_type": "execute_result",
          "data": {
            "text/plain": [
              "['#UNSG']"
            ]
          },
          "metadata": {
            "tags": []
          },
          "execution_count": 13
        }
      ]
    },
    {
      "cell_type": "markdown",
      "metadata": {
        "id": "xqTFEgeEehSS"
      },
      "source": [
        "<br>\n",
        "Finding callouts:"
      ]
    },
    {
      "cell_type": "code",
      "metadata": {
        "collapsed": true,
        "colab": {
          "base_uri": "https://localhost:8080/"
        },
        "id": "d1-pNyHXehSS",
        "outputId": "12333b6f-ee8f-4f0c-e3b0-ae575c29e424"
      },
      "source": [
        "[w for w in text6 if w.startswith('@')]"
      ],
      "execution_count": 14,
      "outputs": [
        {
          "output_type": "execute_result",
          "data": {
            "text/plain": [
              "['@']"
            ]
          },
          "metadata": {
            "tags": []
          },
          "execution_count": 14
        }
      ]
    },
    {
      "cell_type": "code",
      "metadata": {
        "collapsed": true,
        "id": "6Wlmni7pehST"
      },
      "source": [
        "text7 = '@UN @UN_Women \"Ethics are built right into the ideals and objectives of the United Nations\" \\\n",
        "#UNSG @ NY Society for Ethical Culture bit.ly/2guVelr'\n",
        "text8 = text7.split(' ')"
      ],
      "execution_count": 16,
      "outputs": []
    },
    {
      "cell_type": "markdown",
      "metadata": {
        "id": "q0WLGldLehST"
      },
      "source": [
        "<br>\n",
        "\n",
        "We can use regular expressions to help us with more complex parsing. \n",
        "\n",
        "For example `'@[A-Za-z0-9_]+'` will return all words that: \n",
        "* start with `'@'` and are followed by at least one: \n",
        "* capital letter (`'A-Z'`)\n",
        "* lowercase letter (`'a-z'`) \n",
        "* number (`'0-9'`)\n",
        "* or underscore (`'_'`)"
      ]
    },
    {
      "cell_type": "code",
      "metadata": {
        "collapsed": true,
        "colab": {
          "base_uri": "https://localhost:8080/"
        },
        "id": "1MR790DwehST",
        "outputId": "c31482bf-b26f-4f31-e8c7-c192f2498996"
      },
      "source": [
        "import re # import re - a module that provides support for regular expressions\n",
        "\n",
        "[w for w in text8 if re.search('@[A-Za-z0-9_]+', w)]"
      ],
      "execution_count": 17,
      "outputs": [
        {
          "output_type": "execute_result",
          "data": {
            "text/plain": [
              "['@UN', '@UN_Women']"
            ]
          },
          "metadata": {
            "tags": []
          },
          "execution_count": 17
        }
      ]
    }
  ]
}